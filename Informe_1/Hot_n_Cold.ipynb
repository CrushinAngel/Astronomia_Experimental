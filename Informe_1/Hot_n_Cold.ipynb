{
 "cells": [
  {
   "cell_type": "markdown",
   "metadata": {},
   "source": [
    "Cálculo y Tabla para Hot-Cold Test"
   ]
  },
  {
   "cell_type": "code",
   "execution_count": 4,
   "metadata": {},
   "outputs": [
    {
     "name": "stdout",
     "output_type": "stream",
     "text": [
      "\\begin{tabular}{lrr}\n",
      "\\toprule\n",
      " & Temperatures & Output voltages \\\\\n",
      "\\midrule\n",
      "Hot & 300.0000000000 & 0.0000354813 \\\\\n",
      "Cold & 77.0000000000 & 0.0000160694 \\\\\n",
      "Results & 107.6020327737 & 2.2080040325 \\\\\n",
      "\\bottomrule\n",
      "\\end{tabular}\n",
      "\n"
     ]
    }
   ],
   "source": [
    "import pandas as pd\n",
    "\n",
    "w_h = 3.54813e-5   #mW\n",
    "w_c = 1.60694e-5  #mW\n",
    "\n",
    "T_h = 300   #K   \n",
    "T_c = 77      #K\n",
    "\n",
    "\n",
    " \n",
    "factor_y = w_h/w_c\n",
    "T_rec = (T_h - factor_y*T_c)/(factor_y - 1)\n",
    "\n",
    "T = [T_h, T_c, T_rec]\n",
    "w = [w_h, w_c, factor_y]\n",
    "\n",
    "d = {'Temperatures': T, 'Output voltages': w}\n",
    "HCdf = pd.DataFrame(d, index = ['Hot', 'Cold', 'Results'])\n",
    "\n",
    "pd.options.display.precision = 10\n",
    "\n",
    "print(HCdf.to_latex(float_format='%.10f'))"
   ]
  }
 ],
 "metadata": {
  "kernelspec": {
   "display_name": "Python 3",
   "language": "python",
   "name": "python3"
  },
  "language_info": {
   "codemirror_mode": {
    "name": "ipython",
    "version": 3
   },
   "file_extension": ".py",
   "mimetype": "text/x-python",
   "name": "python",
   "nbconvert_exporter": "python",
   "pygments_lexer": "ipython3",
   "version": "3.11.4"
  }
 },
 "nbformat": 4,
 "nbformat_minor": 2
}
