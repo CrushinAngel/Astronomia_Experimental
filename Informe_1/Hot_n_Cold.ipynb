{
 "cells": [
  {
   "cell_type": "markdown",
   "metadata": {},
   "source": [
    "Cálculo y Tabla para Hot-Cold Test"
   ]
  },
  {
   "cell_type": "code",
   "execution_count": null,
   "metadata": {},
   "outputs": [
    {
     "data": {
      "text/html": [
       "<div>\n",
       "<style scoped>\n",
       "    .dataframe tbody tr th:only-of-type {\n",
       "        vertical-align: middle;\n",
       "    }\n",
       "\n",
       "    .dataframe tbody tr th {\n",
       "        vertical-align: top;\n",
       "    }\n",
       "\n",
       "    .dataframe thead th {\n",
       "        text-align: right;\n",
       "    }\n",
       "</style>\n",
       "<table border=\"1\" class=\"dataframe\">\n",
       "  <thead>\n",
       "    <tr style=\"text-align: right;\">\n",
       "      <th></th>\n",
       "      <th>Temperatures</th>\n",
       "      <th>Output voltages</th>\n",
       "    </tr>\n",
       "  </thead>\n",
       "  <tbody>\n",
       "    <tr>\n",
       "      <th>Hot</th>\n",
       "      <td>300.0000000000</td>\n",
       "      <td>0.0000354813</td>\n",
       "    </tr>\n",
       "    <tr>\n",
       "      <th>Cold</th>\n",
       "      <td>77.0000000000</td>\n",
       "      <td>0.0000160694</td>\n",
       "    </tr>\n",
       "    <tr>\n",
       "      <th>Results</th>\n",
       "      <td>107.6020327737</td>\n",
       "      <td>2.2080040325</td>\n",
       "    </tr>\n",
       "  </tbody>\n",
       "</table>\n",
       "</div>"
      ],
      "text/plain": [
       "           Temperatures  Output voltages\n",
       "Hot      300.0000000000     0.0000354813\n",
       "Cold      77.0000000000     0.0000160694\n",
       "Results  107.6020327737     2.2080040325"
      ]
     },
     "execution_count": 21,
     "metadata": {},
     "output_type": "execute_result"
    }
   ],
   "source": [
    "import pandas as pd\n",
    "\n",
    "w_h = 3.54813e-5   #dBm\n",
    "w_c = 1.60694e-5  #dBm\n",
    "\n",
    "T_h = 300   #K   \n",
    "T_c = 77      #K\n",
    "\n",
    "\n",
    " \n",
    "factor_y = w_h/w_c\n",
    "T_rec = (T_h - factor_y*T_c)/(factor_y - 1)\n",
    "\n",
    "T = [T_h, T_c, T_rec]\n",
    "w = [w_h, w_c, factor_y]\n",
    "\n",
    "d = {'Temperatures': T, 'Output voltages': w}\n",
    "HCdf = pd.DataFrame(d, index = ['Hot', 'Cold', 'Results'])\n",
    "\n",
    "pd.options.display.precision = 10\n",
    "\n",
    "HCdf"
   ]
  }
 ],
 "metadata": {
  "kernelspec": {
   "display_name": "Python 3",
   "language": "python",
   "name": "python3"
  },
  "language_info": {
   "codemirror_mode": {
    "name": "ipython",
    "version": 3
   },
   "file_extension": ".py",
   "mimetype": "text/x-python",
   "name": "python",
   "nbconvert_exporter": "python",
   "pygments_lexer": "ipython3",
   "version": "3.11.4"
  }
 },
 "nbformat": 4,
 "nbformat_minor": 2
}
